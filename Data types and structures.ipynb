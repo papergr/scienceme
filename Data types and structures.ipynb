{
 "cells": [
  {
   "cell_type": "markdown",
   "metadata": {},
   "source": [
    "# Basic data types\n",
    "## 1. integer (int): eg 11, 11 is called the 'expression' and int is the 'data type'\n",
    "## 2. float (decimal): 21.213\n",
    "## 3. string (str): \"Hello guys\"\n",
    "## 4. Boolean: True/ False\n",
    "    At above examples, the values are called 'expressions' (eg 11) and the type of the expression (eg int) is called 'data type' "
   ]
  },
  {
   "cell_type": "markdown",
   "metadata": {},
   "source": [
    "## casting: changing the data type of a variable"
   ]
  },
  {
   "cell_type": "markdown",
   "metadata": {},
   "source": [
    "# Expressions: mathematical operations\n",
    "    12+13 is an 'expression' (addition mathematical operation)\n",
    "    + (addition) is an 'operator'"
   ]
  },
  {
   "cell_type": "markdown",
   "metadata": {},
   "source": [
    "# Strings"
   ]
  },
  {
   "cell_type": "code",
   "execution_count": 12,
   "metadata": {},
   "outputs": [
    {
     "name": "stdout",
     "output_type": "stream",
     "text": [
      "r\n",
      "a\n",
      "ris\n",
      "Paris Perlegkas is the best\n"
     ]
    }
   ],
   "source": [
    "name = \"Paris Perlegkas\"\n",
    "# I can find the specific character of a string by indexing\n",
    "print(name[2])\n",
    "print(name[-2])\n",
    "print(name[2:5])\n",
    "# string are immutable; you cannot change the value of a string, but you can create a new one based on it\n",
    "#name[5] = \"r\"\n",
    "name=name + \" is the best\"\n",
    "print(name)"
   ]
  },
  {
   "cell_type": "code",
   "execution_count": 16,
   "metadata": {},
   "outputs": [
    {
     "data": {
      "text/plain": [
       "2"
      ]
     },
     "execution_count": 16,
     "metadata": {},
     "output_type": "execute_result"
    }
   ],
   "source": [
    "# .find(test) method finds the starting index of a substring (substring 'test' in our example)\n",
    "name.find(\"ris\")"
   ]
  },
  {
   "cell_type": "markdown",
   "metadata": {},
   "source": [
    "# Lists and tuples\n",
    "## They are called 'compound data types' and are key types of data structures"
   ]
  },
  {
   "cell_type": "markdown",
   "metadata": {},
   "source": [
    "## Tuples\n",
    "### 1. are an ordered sequence\n",
    "### 2. are written as comma-separated elements within parentheses"
   ]
  },
  {
   "cell_type": "code",
   "execution_count": 19,
   "metadata": {},
   "outputs": [
    {
     "data": {
      "text/plain": [
       "(10, 9, 6, 5, 10, 8, 9, 6, 2)"
      ]
     },
     "execution_count": 19,
     "metadata": {},
     "output_type": "execute_result"
    }
   ],
   "source": [
    "ratings = (10,9,6,5,10,8,9,6,2)\n",
    "ratings"
   ]
  },
  {
   "cell_type": "markdown",
   "metadata": {},
   "source": [
    "### 3. elements of a tuple can be of different data type, str, int, float, etc."
   ]
  },
  {
   "cell_type": "code",
   "execution_count": 42,
   "metadata": {},
   "outputs": [
    {
     "name": "stdout",
     "output_type": "stream",
     "text": [
      "('disco', 10)\n",
      "(10, 1.2)\n"
     ]
    }
   ],
   "source": [
    "tuple1 = (\"disco\", 10, 1.2)\n",
    "type(tuple1)\n",
    "\n",
    "# indexing tuples\n",
    "tuple1[0]\n",
    "\n",
    "# slicing tuples; the last/ closing index of the slicing definition should be larger by 1 than the index than you truly want\n",
    "# indexes 0:2, bring all elements of the tuple from the 1st (1st element has index 0) until the 2nd (1nd element has index 1, but we have to add 1 due to tuples slicing definition, thus 2)  \n",
    "print(tuple1[0:2])\n",
    "\n",
    "# indexes 1:3, bring all elements of the tuple from the 2nd (2nd element has index 1) until the 3rd (3rd element has index 2, but we have to add 1 due to tuples slicing definition, thus 3)  \n",
    "# as stated above we add 1 at the final actual index (2)\n",
    "print(tuple1[1:3])"
   ]
  },
  {
   "cell_type": "markdown",
   "metadata": {},
   "source": [
    "### 4. are IMMUTABLE"
   ]
  },
  {
   "cell_type": "code",
   "execution_count": 45,
   "metadata": {},
   "outputs": [
    {
     "data": {
      "text/plain": [
       "('train', 10, 1.2)"
      ]
     },
     "execution_count": 45,
     "metadata": {},
     "output_type": "execute_result"
    }
   ],
   "source": [
    "# we cannot change the element on an existing tuple, but only create a new one\n",
    "#tuple1[1]=4\n",
    "# tuple1's element cannot be changed, it can only be redefined/ recreated/ modified on its totality\n",
    "tuple1=(\"train\",10,1.2)\n",
    "tuple1"
   ]
  },
  {
   "cell_type": "markdown",
   "metadata": {},
   "source": [
    "### 5. can be nested; a tuple can contain other tuple inside it as element"
   ]
  },
  {
   "cell_type": "code",
   "execution_count": 1,
   "metadata": {},
   "outputs": [
    {
     "data": {
      "text/plain": [
       "tuple"
      ]
     },
     "execution_count": 1,
     "metadata": {},
     "output_type": "execute_result"
    }
   ],
   "source": [
    "NT = (1,2,(\"pop\", \"disco\"), (3,4),(\"disco\",(1,2)))\n",
    "type(NT)"
   ]
  },
  {
   "cell_type": "code",
   "execution_count": 2,
   "metadata": {},
   "outputs": [
    {
     "data": {
      "text/plain": [
       "(1, 2, ('pop', 'disco'), (3, 4), ('disco', (1, 2)))"
      ]
     },
     "execution_count": 2,
     "metadata": {},
     "output_type": "execute_result"
    }
   ],
   "source": [
    "NT"
   ]
  },
  {
   "cell_type": "code",
   "execution_count": 10,
   "metadata": {},
   "outputs": [
    {
     "data": {
      "text/plain": [
       "2"
      ]
     },
     "execution_count": 10,
     "metadata": {},
     "output_type": "execute_result"
    }
   ],
   "source": [
    "NT[4][1][1]"
   ]
  },
  {
   "cell_type": "markdown",
   "metadata": {},
   "source": [
    "## Lists; very similar to tuples\n",
    "### 1. are an ordered sequence\n",
    "### 2. are written as comma-separated elements within square brackets\n",
    "### 3. Lists are MUTABLE\n",
    "### 4. can be nested with any other data structure, list, tuple etc."
   ]
  },
  {
   "cell_type": "code",
   "execution_count": 23,
   "metadata": {},
   "outputs": [
    {
     "name": "stdout",
     "output_type": "stream",
     "text": [
      "('A', 1)\n",
      "<class 'int'>\n",
      "<class 'list'>\n",
      "<class 'tuple'>\n"
     ]
    }
   ],
   "source": [
    "list1 = [\"Michael Jackson\", 10.1, 1982, [1,2], (\"A\", 1)]\n",
    "print(list1[4])\n",
    "print(type(list1[2]))\n",
    "print(type(list1[3]))\n",
    "# list1[4] element is tuple because it is defined with parenthesis\n",
    "print(type(list1[4]))"
   ]
  },
  {
   "cell_type": "code",
   "execution_count": 36,
   "metadata": {
    "scrolled": true
   },
   "outputs": [
    {
     "name": "stdout",
     "output_type": "stream",
     "text": [
      "['Michael Jackson', 10.1, 4, [1, 2], ('A', 1)]\n"
     ]
    }
   ],
   "source": [
    "# lists are MUTABLE\n",
    "list1[2]=4\n",
    "list1\n",
    "# tuples are IMMUTABLE\n",
    "# NT[1]=4 \n",
    "print(list1)\n",
    "# completely delete/ remove a list's element\n",
    "# del(list1[1])"
   ]
  },
  {
   "cell_type": "code",
   "execution_count": 33,
   "metadata": {},
   "outputs": [
    {
     "name": "stdout",
     "output_type": "stream",
     "text": [
      "[1, 2, 'disco', 'pop']\n",
      "[1, 2, ['disco', 'pop']]\n"
     ]
    }
   ],
   "source": [
    "# we can either add a list to another list, or append an element to a list\n",
    "# addition through extend method, it adds/ concatenates to the list the to be added list\n",
    "# thus result is L list with 4 elements\n",
    "L=[1,2]\n",
    "L.extend([\"disco\", \"pop\"])\n",
    "print(L)\n",
    "\n",
    "# append adds the to be added list as a single element to the to be appended list \n",
    "# thus result is L list with 3 elements\n",
    "L=[1,2]\n",
    "L.append([\"disco\", \"pop\"])\n",
    "print(L)\n",
    "\n",
    "# everytime we apply a method the list changes = MUTABLE"
   ]
  }
 ],
 "metadata": {
  "kernelspec": {
   "display_name": "Python 3",
   "language": "python",
   "name": "python3"
  },
  "language_info": {
   "codemirror_mode": {
    "name": "ipython",
    "version": 3
   },
   "file_extension": ".py",
   "mimetype": "text/x-python",
   "name": "python",
   "nbconvert_exporter": "python",
   "pygments_lexer": "ipython3",
   "version": "3.7.4"
  }
 },
 "nbformat": 4,
 "nbformat_minor": 2
}
